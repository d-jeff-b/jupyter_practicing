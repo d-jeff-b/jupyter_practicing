{
 "cells": [
  {
   "cell_type": "markdown",
   "id": "d58077d7",
   "metadata": {},
   "source": [
    "Q1: 請建立一個變數來存放小明的第一次的英文考試成績，第一次的英文考試成績為91分"
   ]
  },
  {
   "cell_type": "code",
   "execution_count": null,
   "id": "7b5965cc",
   "metadata": {},
   "outputs": [],
   "source": []
  },
  {
   "cell_type": "markdown",
   "id": "33a9fb78",
   "metadata": {},
   "source": [
    "Q2: 請建立一個變數來存放小明的第二次的英文考試成績，第二次的英文考試成績為89分"
   ]
  },
  {
   "cell_type": "code",
   "execution_count": null,
   "id": "6aed9860",
   "metadata": {},
   "outputs": [],
   "source": []
  },
  {
   "cell_type": "markdown",
   "id": "11f8094c",
   "metadata": {},
   "source": [
    "Q3: 請建立一個變數來存放小明的第三次的英文考試成績，第三次的英文考試成績為99分"
   ]
  },
  {
   "cell_type": "code",
   "execution_count": null,
   "id": "f104f574",
   "metadata": {},
   "outputs": [],
   "source": []
  },
  {
   "cell_type": "markdown",
   "id": "0213af11",
   "metadata": {},
   "source": [
    "Q4: 請在螢幕上顯示小明的第二次的英文考試成績"
   ]
  },
  {
   "cell_type": "code",
   "execution_count": null,
   "id": "b335b874",
   "metadata": {},
   "outputs": [],
   "source": []
  },
  {
   "cell_type": "markdown",
   "id": "a7bfc52f",
   "metadata": {},
   "source": [
    "Q5: 請在螢幕上顯示小明三次英文考試成績的平均"
   ]
  },
  {
   "cell_type": "code",
   "execution_count": null,
   "id": "f19702f0",
   "metadata": {},
   "outputs": [],
   "source": []
  },
  {
   "cell_type": "markdown",
   "id": "62446633",
   "metadata": {},
   "source": [
    "Q6: 公式A的計算方式如下:  \n",
    "$$ \\left( 第一次考試成績 \\right) \\times 0.5 + \\left( 第二次考試成績 \\right) \\times 2 + \\left( 第三次考試成績 \\right) \\times 5 $$\n",
    "請問小明的三次成績經過公式A的計算結果是多少?"
   ]
  },
  {
   "cell_type": "code",
   "execution_count": null,
   "id": "95349d7e",
   "metadata": {},
   "outputs": [],
   "source": []
  },
  {
   "cell_type": "markdown",
   "id": "bfe0f9d0",
   "metadata": {},
   "source": [
    "Q7: 小英的三次考試成績經過公式A的計算結果為`18147.5`，請問此結果與小明成績經過公式A的計算結果差距為多少?"
   ]
  },
  {
   "cell_type": "code",
   "execution_count": null,
   "id": "0d8a4a62",
   "metadata": {},
   "outputs": [],
   "source": []
  }
 ],
 "metadata": {
  "kernelspec": {
   "display_name": "Python 3 (ipykernel)",
   "language": "python",
   "name": "python3"
  },
  "language_info": {
   "codemirror_mode": {
    "name": "ipython",
    "version": 3
   },
   "file_extension": ".py",
   "mimetype": "text/x-python",
   "name": "python",
   "nbconvert_exporter": "python",
   "pygments_lexer": "ipython3",
   "version": "3.11.5"
  }
 },
 "nbformat": 4,
 "nbformat_minor": 5
}
